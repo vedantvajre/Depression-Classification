{
 "cells": [
  {
   "cell_type": "code",
   "execution_count": 173,
   "metadata": {},
   "outputs": [],
   "source": [
    "import sklearn\n",
    "import numpy as np\n",
    "import pandas as pd\n",
    "from sklearn.feature_extraction.text import CountVectorizer\n",
    "import numpy as np\n",
    "from sklearn.feature_extraction.text import TfidfVectorizer\n",
    "from sklearn.pipeline import Pipeline\n",
    "from sklearn.feature_extraction.text import TfidfTransformer\n",
    "from sklearn.datasets import load_files\n",
    "from sklearn.model_selection import train_test_split\n",
    "from sklearn import metrics\n",
    "from sklearn.neighbors import KNeighborsClassifier\n",
    "from sklearn.linear_model import LogisticRegression\n",
    "from csv import reader"
   ]
  },
  {
   "cell_type": "code",
   "execution_count": 174,
   "metadata": {},
   "outputs": [],
   "source": [
    "old_data=pd.read_csv(r'Data/tweetdata.csv', names=['stuff'])\n",
    "airline_data=pd.read_csv(r'C:/Users/vedan/Airline Tweets/data/tweets.csv')\n",
    "movie_data=pd.read_csv(r'C:/Users/vedan/Movie Reviews/Data/rt-polarity-pos.csv', names=['text'])\n",
    "depression_data=old_data.stuff.str.split(pat=\",\", expand=True)\n",
    "depression_data.rename(columns={3:'text'}, inplace=True)\n",
    "depression_data=depression_data.loc[:, ['text']]\n",
    "airline_data=airline_data[~airline_data['airline_sentiment'].isin(['negative', 'neutral'])]\n",
    "airline_data=airline_data.loc[:, ['text']]\n",
    "depression_data=depression_data.iloc[:-1645]\n",
    "depression_data.to_csv(r'C:/Users/vedan/Depression Classification/data/depression.csv', index=False, header=None)\n",
    "positive_data=pd.concat([airline_data, movie_data], axis=0)\n",
    "positive=pd.DataFrame(positive_data)\n",
    "positive.to_csv(r'C:/Users/vedan/Depression Classification/data/positive data.csv', index=False)"
   ]
  },
  {
   "cell_type": "code",
   "execution_count": 204,
   "metadata": {},
   "outputs": [
    {
     "name": "stdout",
     "output_type": "stream",
     "text": [
      "       value                                               text\n",
      "1         -1  \"text\":\"Hey look - I found my social anxiety a...\n",
      "2         -1  \"text\":\"RT @shannonpurser: Depression sucks. I...\n",
      "3         -1  \"text\":\"RT @HRoyalThighness: Lol my social anx...\n",
      "4         -1                    \"text\":\"How to Deal with Stress\n",
      "5         -1  \"text\":\"RT @COCONUTOILBAE: when you want to be...\n",
      "...      ...                                                ...\n",
      "15369      1  both exuberantly romantic and serenely melanch...\n",
      "15370      1  mazel tov to a film about a family's joyous li...\n",
      "15371      1  standing in the shadows of motown is the best ...\n",
      "15372      1  it's nice to see piscopo again after all these...\n",
      "15373      1  provides a porthole into that noble , tremblin...\n",
      "\n",
      "[15373 rows x 2 columns]\n"
     ]
    }
   ],
   "source": [
    "all_reviews=[]\n",
    "with open('C:/Users/vedan/Depression Classification/data/depression.csv', 'r') as read_obj:\n",
    "    csv_reader=reader(read_obj)\n",
    "    for row in csv_reader:\n",
    "        all_reviews.append(row)\n",
    "with open('C:/Users/vedan/Depression Classification/data/positive data.csv', 'r', encoding='utf8') as read_obj:\n",
    "    csv_reader=reader(read_obj)\n",
    "    for row in csv_reader:\n",
    "        all_reviews.append(row)\n",
    "sentiment=[]\n",
    "sentiment.extend([-1 for i in range(7686)])\n",
    "sentiment.extend([1 for i in range(7686)])\n",
    "review=pd.read_csv('data/sentiment.csv', names=['value'])\n",
    "review.drop(review.index[0], inplace=True)\n",
    "review.insert(1, 'text', all_reviews)\n",
    "review['text']=review['text'].str.join(',')\n",
    "print(review)"
   ]
  },
  {
   "cell_type": "code",
   "execution_count": 187,
   "metadata": {},
   "outputs": [],
   "source": [
    "X=review['text']\n",
    "y=review['value']\n",
    "X_train, X_test, y_train, y_test=train_test_split(X, y, train_size=.8, test_size=0.2, random_state=42)"
   ]
  },
  {
   "cell_type": "code",
   "execution_count": 200,
   "metadata": {},
   "outputs": [
    {
     "name": "stderr",
     "output_type": "stream",
     "text": [
      "C:\\ProgramData\\Anaconda3\\lib\\site-packages\\sklearn\\linear_model\\logistic.py:432: FutureWarning: Default solver will be changed to 'lbfgs' in 0.22. Specify a solver to silence this warning.\n",
      "  FutureWarning)\n"
     ]
    },
    {
     "data": {
      "text/plain": [
       "Pipeline(memory=None,\n",
       "         steps=[('vectorizer',\n",
       "                 CountVectorizer(analyzer='word', binary=False,\n",
       "                                 decode_error='strict',\n",
       "                                 dtype=<class 'numpy.int64'>, encoding='utf-8',\n",
       "                                 input='content', lowercase=True, max_df=1.0,\n",
       "                                 max_features=None, min_df=1,\n",
       "                                 ngram_range=(1, 1), preprocessor=None,\n",
       "                                 stop_words='english', strip_accents=None,\n",
       "                                 token_pattern='(?u)\\\\b\\\\w\\\\w+\\\\b',\n",
       "                                 tokenizer=None, vocabulary=None)),\n",
       "                ('logreg',\n",
       "                 LogisticRegression(C=1.0, class_weight=None, dual=False,\n",
       "                                    fit_intercept=True, intercept_scaling=1,\n",
       "                                    l1_ratio=None, max_iter=100,\n",
       "                                    multi_class='warn', n_jobs=None,\n",
       "                                    penalty='l2', random_state=None,\n",
       "                                    solver='warn', tol=0.0001, verbose=0,\n",
       "                                    warm_start=False))],\n",
       "         verbose=False)"
      ]
     },
     "execution_count": 200,
     "metadata": {},
     "output_type": "execute_result"
    }
   ],
   "source": [
    "pipeline=Pipeline([('vectorizer', CountVectorizer(stop_words='english')), ('logreg', LogisticRegression())])\n",
    "pipeline.fit(X_train, y_train)"
   ]
  },
  {
   "cell_type": "code",
   "execution_count": 197,
   "metadata": {},
   "outputs": [
    {
     "name": "stdout",
     "output_type": "stream",
     "text": [
      "1.0\n"
     ]
    }
   ],
   "source": [
    "y_pred=pipeline.predict(X_test)\n",
    "print(metrics.accuracy_score(y_test, y_pred))"
   ]
  },
  {
   "cell_type": "code",
   "execution_count": null,
   "metadata": {},
   "outputs": [],
   "source": []
  }
 ],
 "metadata": {
  "kernelspec": {
   "display_name": "Python 3",
   "language": "python",
   "name": "python3"
  },
  "language_info": {
   "codemirror_mode": {
    "name": "ipython",
    "version": 3
   },
   "file_extension": ".py",
   "mimetype": "text/x-python",
   "name": "python",
   "nbconvert_exporter": "python",
   "pygments_lexer": "ipython3",
   "version": "3.7.4"
  }
 },
 "nbformat": 4,
 "nbformat_minor": 2
}
